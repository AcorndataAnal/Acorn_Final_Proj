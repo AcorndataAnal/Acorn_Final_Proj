{
 "cells": [
  {
   "cell_type": "code",
   "execution_count": 86,
   "id": "ad604239",
   "metadata": {},
   "outputs": [
    {
     "name": "stderr",
     "output_type": "stream",
     "text": [
      "C:\\Users\\acorn\\AppData\\Local\\Temp\\ipykernel_9656\\2720821704.py:11: DeprecationWarning: executable_path has been deprecated, please pass in a Service object\n",
      "  driver = webdriver.Chrome(\"C:/ljk9707/download/chomredriver\")\n"
     ]
    }
   ],
   "source": [
    "from selenium import webdriver\n",
    "from selenium.webdriver.common.by import By\n",
    "from selenium.webdriver.common.keys import Keys\n",
    "import urllib.request as req\n",
    "import os\n",
    "\n",
    "food_list = [\"떡볶이\"]\n",
    "\n",
    "for food in food_list:\n",
    "    os.mkdir(\"data/{}\".format(food))\n",
    "    count=1\n",
    "    for j in range(1, 26):\n",
    "        chomredriver_path=\"C:/ljk9707/download/chomredriver\"\n",
    "        driver = webdriver.Chrome(chomredriver_path)\n",
    "        driver.get(\"https://www.10000recipe.com/recipe/list.html?q=\"+str(food)+\"&order=reco&page=\"+str(j))\n",
    "\n",
    "        elements = driver.find_elements(By.CLASS_NAME,\"common_sp_thumb\")\n",
    "        \n",
    "        for i in range(len(elements)):\n",
    "            images = elements[i].find_elements(By.TAG_NAME, \"img\")\n",
    "            for img in images:\n",
    "                png = img.get_attribute(\"src\")\n",
    "                if png == \"https://recipe1.ezmember.co.kr/img/icon_vod.png\":\n",
    "                    continue\n",
    "                else:\n",
    "                    req.urlretrieve(png, \"image_data/{}/{}_{}.png\".format(food, food, count))\n",
    "                    count+=1"
   ]
  }
 ],
 "metadata": {
  "kernelspec": {
   "display_name": "Python 3 (ipykernel)",
   "language": "python",
   "name": "python3"
  },
  "language_info": {
   "codemirror_mode": {
    "name": "ipython",
    "version": 3
   },
   "file_extension": ".py",
   "mimetype": "text/x-python",
   "name": "python",
   "nbconvert_exporter": "python",
   "pygments_lexer": "ipython3",
   "version": "3.9.13"
  }
 },
 "nbformat": 4,
 "nbformat_minor": 5
}
